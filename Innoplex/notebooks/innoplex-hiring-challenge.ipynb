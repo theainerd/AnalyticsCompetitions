{
 "cells": [
  {
   "cell_type": "code",
   "execution_count": 1,
   "metadata": {
    "_cell_guid": "b1076dfc-b9ad-4769-8c92-a6c4dae69d19",
    "_uuid": "8f2839f25d086af736a60e9eeb907d3b93b6e0e5"
   },
   "outputs": [
    {
     "name": "stdout",
     "output_type": "stream",
     "text": [
      "['itos_wt103.pkl', 'lstm_wt103.pth']\n"
     ]
    }
   ],
   "source": [
    "import numpy as np # linear algebra\n",
    "import pandas as pd # data processing, CSV file I/O (e.g. pd.read_csv)\n",
    "import gc\n",
    "from tqdm import  tqdm\n",
    "tqdm.pandas()\n",
    "# Input data files are available in the \"../input/\" directory.\n",
    "# For example, running this (by clicking run or pressing Shift+Enter) will list the files in the input directory\n",
    "\n",
    "import os\n",
    "print(os.listdir(\"../input/awd-lstm/\"))\n",
    "\n",
    "from scipy.sparse import hstack\n",
    "\n",
    "from spacy.lang.en import English\n",
    "nlp = English()\n",
    "\n",
    "from sklearn import preprocessing, model_selection, metrics\n",
    "from sklearn.feature_extraction.text import TfidfVectorizer, CountVectorizer\n",
    "from sklearn.linear_model import LogisticRegression\n",
    "from sklearn.ensemble import RandomForestClassifier\n",
    "from sklearn.model_selection import train_test_split,cross_val_score\n",
    "from sklearn.naive_bayes import MultinomialNB\n",
    "from sklearn.metrics import f1_score, make_scorer,roc_curve, roc_auc_score\n",
    "\n",
    "\n",
    "# Any results you write to the current directory are saved as output."
   ]
  },
  {
   "cell_type": "code",
   "execution_count": 2,
   "metadata": {
    "_cell_guid": "79c7e3d0-c299-4dcb-8224-4455121ee9b0",
    "_uuid": "d629ff2d2480ee46fbb7e2d37f6b5fab8052498a"
   },
   "outputs": [
    {
     "name": "stdout",
     "output_type": "stream",
     "text": [
      "Loading data...\n",
      "Train shape: (5279, 4)\n"
     ]
    },
    {
     "data": {
      "text/html": [
       "<div>\n",
       "<style scoped>\n",
       "    .dataframe tbody tr th:only-of-type {\n",
       "        vertical-align: middle;\n",
       "    }\n",
       "\n",
       "    .dataframe tbody tr th {\n",
       "        vertical-align: top;\n",
       "    }\n",
       "\n",
       "    .dataframe thead th {\n",
       "        text-align: right;\n",
       "    }\n",
       "</style>\n",
       "<table border=\"1\" class=\"dataframe\">\n",
       "  <thead>\n",
       "    <tr style=\"text-align: right;\">\n",
       "      <th></th>\n",
       "      <th>unique_hash</th>\n",
       "      <th>text</th>\n",
       "      <th>drug</th>\n",
       "      <th>sentiment</th>\n",
       "    </tr>\n",
       "  </thead>\n",
       "  <tbody>\n",
       "    <tr>\n",
       "      <th>0</th>\n",
       "      <td>2e180be4c9214c1f5ab51fd8cc32bc80c9f612e0</td>\n",
       "      <td>Autoimmune diseases tend to come in clusters. ...</td>\n",
       "      <td>gilenya</td>\n",
       "      <td>2</td>\n",
       "    </tr>\n",
       "    <tr>\n",
       "      <th>1</th>\n",
       "      <td>9eba8f80e7e20f3a2f48685530748fbfa95943e4</td>\n",
       "      <td>I can completely understand why you’d want to ...</td>\n",
       "      <td>gilenya</td>\n",
       "      <td>2</td>\n",
       "    </tr>\n",
       "    <tr>\n",
       "      <th>2</th>\n",
       "      <td>fe809672251f6bd0d986e00380f48d047c7e7b76</td>\n",
       "      <td>Interesting that it only targets S1P-1/5 recep...</td>\n",
       "      <td>fingolimod</td>\n",
       "      <td>2</td>\n",
       "    </tr>\n",
       "    <tr>\n",
       "      <th>3</th>\n",
       "      <td>bd22104dfa9ec80db4099523e03fae7a52735eb6</td>\n",
       "      <td>Very interesting, grand merci. Now I wonder wh...</td>\n",
       "      <td>ocrevus</td>\n",
       "      <td>2</td>\n",
       "    </tr>\n",
       "    <tr>\n",
       "      <th>4</th>\n",
       "      <td>b227688381f9b25e5b65109dd00f7f895e838249</td>\n",
       "      <td>Hi everybody, My latest MRI results for Brain ...</td>\n",
       "      <td>gilenya</td>\n",
       "      <td>1</td>\n",
       "    </tr>\n",
       "  </tbody>\n",
       "</table>\n",
       "</div>"
      ],
      "text/plain": [
       "                                unique_hash    ...    sentiment\n",
       "0  2e180be4c9214c1f5ab51fd8cc32bc80c9f612e0    ...            2\n",
       "1  9eba8f80e7e20f3a2f48685530748fbfa95943e4    ...            2\n",
       "2  fe809672251f6bd0d986e00380f48d047c7e7b76    ...            2\n",
       "3  bd22104dfa9ec80db4099523e03fae7a52735eb6    ...            2\n",
       "4  b227688381f9b25e5b65109dd00f7f895e838249    ...            1\n",
       "\n",
       "[5 rows x 4 columns]"
      ]
     },
     "execution_count": 2,
     "metadata": {},
     "output_type": "execute_result"
    }
   ],
   "source": [
    "# Load Data\n",
    "print(\"Loading data...\")\n",
    "train = pd.read_csv(\"../input/innoplex/train.csv\")\n",
    "test = pd.read_csv(\"../input/innoplex/test.csv\")\n",
    "\n",
    "print(\"Train shape:\", train.shape)\n",
    "train.head()"
   ]
  },
  {
   "cell_type": "code",
   "execution_count": 3,
   "metadata": {},
   "outputs": [
    {
     "data": {
      "text/html": [
       "<div>\n",
       "<style scoped>\n",
       "    .dataframe tbody tr th:only-of-type {\n",
       "        vertical-align: middle;\n",
       "    }\n",
       "\n",
       "    .dataframe tbody tr th {\n",
       "        vertical-align: top;\n",
       "    }\n",
       "\n",
       "    .dataframe thead th {\n",
       "        text-align: right;\n",
       "    }\n",
       "</style>\n",
       "<table border=\"1\" class=\"dataframe\">\n",
       "  <thead>\n",
       "    <tr style=\"text-align: right;\">\n",
       "      <th></th>\n",
       "      <th>unique_hash</th>\n",
       "      <th>text</th>\n",
       "      <th>drug</th>\n",
       "    </tr>\n",
       "  </thead>\n",
       "  <tbody>\n",
       "    <tr>\n",
       "      <th>0</th>\n",
       "      <td>9e9a8166b84114aca147bf409f6f956635034c08</td>\n",
       "      <td>256 (previously stable on natalizumab), with 5...</td>\n",
       "      <td>fingolimod</td>\n",
       "    </tr>\n",
       "    <tr>\n",
       "      <th>1</th>\n",
       "      <td>e747e6822c867571afe7b907b51f0f2ca67b0e1a</td>\n",
       "      <td>On fingolimod and have been since December 201...</td>\n",
       "      <td>fingolimod</td>\n",
       "    </tr>\n",
       "    <tr>\n",
       "      <th>2</th>\n",
       "      <td>50b6d851bcff4f35afe354937949e9948975adf7</td>\n",
       "      <td>Apparently it's shingles! :-/ I do have a few ...</td>\n",
       "      <td>humira</td>\n",
       "    </tr>\n",
       "    <tr>\n",
       "      <th>3</th>\n",
       "      <td>7f82ec2176ae6ab0b5d20b5ffc767ac829f384ae</td>\n",
       "      <td>If the Docetaxel doing once a week x3 weeks th...</td>\n",
       "      <td>tagrisso</td>\n",
       "    </tr>\n",
       "    <tr>\n",
       "      <th>4</th>\n",
       "      <td>8b37d169dee5bdae27060949242fb54feb6a7f7f</td>\n",
       "      <td>CC, Stelara worked in a matter of days for me....</td>\n",
       "      <td>stelara</td>\n",
       "    </tr>\n",
       "  </tbody>\n",
       "</table>\n",
       "</div>"
      ],
      "text/plain": [
       "                                unique_hash     ...            drug\n",
       "0  9e9a8166b84114aca147bf409f6f956635034c08     ...      fingolimod\n",
       "1  e747e6822c867571afe7b907b51f0f2ca67b0e1a     ...      fingolimod\n",
       "2  50b6d851bcff4f35afe354937949e9948975adf7     ...          humira\n",
       "3  7f82ec2176ae6ab0b5d20b5ffc767ac829f384ae     ...        tagrisso\n",
       "4  8b37d169dee5bdae27060949242fb54feb6a7f7f     ...         stelara\n",
       "\n",
       "[5 rows x 3 columns]"
      ]
     },
     "execution_count": 3,
     "metadata": {},
     "output_type": "execute_result"
    }
   ],
   "source": [
    "test.head()"
   ]
  },
  {
   "cell_type": "code",
   "execution_count": 4,
   "metadata": {},
   "outputs": [
    {
     "data": {
      "text/plain": [
       "2    3825\n",
       "1     837\n",
       "0     617\n",
       "Name: sentiment, dtype: int64"
      ]
     },
     "execution_count": 4,
     "metadata": {},
     "output_type": "execute_result"
    }
   ],
   "source": [
    "train['sentiment'].value_counts()"
   ]
  },
  {
   "cell_type": "code",
   "execution_count": 5,
   "metadata": {},
   "outputs": [
    {
     "name": "stdout",
     "output_type": "stream",
     "text": [
      "The first text is:\n",
      "\n",
      " I can completely understand why you’d want to try it. But, results reported in lectures don’t always stand up to the scrutiny of peer-review during publication. There so much still to do before this is convincing. I hope that it does work out, I really do. And if you’re aware of and happy with the risks, then that’s great. I just think it’s important to present this in a balanced way, and to understand why we don’t move straight from the first show of promise in an animal study to using drugs on humans. There’s still a lot of animal data to gather, and human data to gather before anyone can tell if it’s safe or effective. I can’t tell you how many times animal studies don’t follow through to humans, but it’s one of the major attrition points in drug development. You’ve been through some of the unpredictability issues with Cladribine/Gilenya, where there was an interaction that wasn’t predicted. But once people try it, the doctors can see patterns and work out what’s going on. Clemastine/metformin is very exciting, and given what you’ve said about your current condition and your personal risk tolerance it makes sense to try it. It definitely wouldn’t be for everyone.\n"
     ]
    },
    {
     "data": {
      "text/plain": [
       "1184"
      ]
     },
     "execution_count": 5,
     "metadata": {},
     "output_type": "execute_result"
    }
   ],
   "source": [
    "# Check the first review\n",
    "\n",
    "print('The first text is:\\n\\n',train[\"text\"][1])\n",
    "len(train['text'][1])"
   ]
  },
  {
   "cell_type": "code",
   "execution_count": 6,
   "metadata": {},
   "outputs": [],
   "source": [
    "# function to clean data\n",
    "\n",
    "def cleanData(doc,stemming = False):\n",
    "    doc = doc.lower()\n",
    "    doc = nlp(doc)\n",
    "    tokens = [tokens.lower_ for tokens in doc]\n",
    "    tokens = [tokens for tokens in doc if (tokens.is_stop == False)]\n",
    "    tokens = [tokens for tokens in tokens if (tokens.is_punct == False)]\n",
    "    final_token = [token.lemma_ for token in tokens]\n",
    "    \n",
    "    return \" \".join(final_token)"
   ]
  },
  {
   "cell_type": "code",
   "execution_count": 7,
   "metadata": {},
   "outputs": [
    {
     "data": {
      "text/plain": [
       "'completely understand want try result report lecture stand scrutiny peer review publication convince hope work aware happy risk great think important present balance way understand straight promise animal study drug human lot animal datum gather human datum gather tell safe effective tell time animal study follow human major attrition point drug development unpredictability issue cladribine gilenya interaction predict people try doctor pattern work go clemastine metformin excite give say current condition personal risk tolerance make sense try definitely'"
      ]
     },
     "execution_count": 7,
     "metadata": {},
     "output_type": "execute_result"
    }
   ],
   "source": [
    "clean_review = cleanData(train['text'][1])\n",
    "clean_review"
   ]
  },
  {
   "cell_type": "code",
   "execution_count": 8,
   "metadata": {},
   "outputs": [
    {
     "name": "stdout",
     "output_type": "stream",
     "text": [
      "Cleaning train data...\n",
      "\n"
     ]
    }
   ],
   "source": [
    "# clean description\n",
    "print(\"Cleaning train data...\\n\")\n",
    "train[\"text\"] = train[\"text\"].map(lambda x: cleanData(x))"
   ]
  },
  {
   "cell_type": "code",
   "execution_count": 9,
   "metadata": {},
   "outputs": [
    {
     "name": "stdout",
     "output_type": "stream",
     "text": [
      "Cleaning test data...\n",
      "\n"
     ]
    }
   ],
   "source": [
    "# clean description\n",
    "print(\"Cleaning test data...\\n\")\n",
    "test[\"text\"] = test[\"text\"].map(lambda x: cleanData(x))"
   ]
  },
  {
   "cell_type": "code",
   "execution_count": 10,
   "metadata": {},
   "outputs": [],
   "source": [
    "y = train['sentiment']"
   ]
  },
  {
   "cell_type": "code",
   "execution_count": 11,
   "metadata": {},
   "outputs": [],
   "source": [
    "train = train.drop(['sentiment'],axis=1)"
   ]
  },
  {
   "cell_type": "code",
   "execution_count": 12,
   "metadata": {},
   "outputs": [
    {
     "data": {
      "text/html": [
       "<div>\n",
       "<style scoped>\n",
       "    .dataframe tbody tr th:only-of-type {\n",
       "        vertical-align: middle;\n",
       "    }\n",
       "\n",
       "    .dataframe tbody tr th {\n",
       "        vertical-align: top;\n",
       "    }\n",
       "\n",
       "    .dataframe thead th {\n",
       "        text-align: right;\n",
       "    }\n",
       "</style>\n",
       "<table border=\"1\" class=\"dataframe\">\n",
       "  <thead>\n",
       "    <tr style=\"text-align: right;\">\n",
       "      <th></th>\n",
       "      <th>unique_hash</th>\n",
       "      <th>text</th>\n",
       "      <th>drug</th>\n",
       "    </tr>\n",
       "  </thead>\n",
       "  <tbody>\n",
       "    <tr>\n",
       "      <th>0</th>\n",
       "      <td>2e180be4c9214c1f5ab51fd8cc32bc80c9f612e0</td>\n",
       "      <td>autoimmune disease tend come cluster gilenya f...</td>\n",
       "      <td>gilenya</td>\n",
       "    </tr>\n",
       "    <tr>\n",
       "      <th>1</th>\n",
       "      <td>9eba8f80e7e20f3a2f48685530748fbfa95943e4</td>\n",
       "      <td>completely understand want try result report l...</td>\n",
       "      <td>gilenya</td>\n",
       "    </tr>\n",
       "    <tr>\n",
       "      <th>2</th>\n",
       "      <td>fe809672251f6bd0d986e00380f48d047c7e7b76</td>\n",
       "      <td>interest target s1p-1/5 receptor 1 5 like fing...</td>\n",
       "      <td>fingolimod</td>\n",
       "    </tr>\n",
       "    <tr>\n",
       "      <th>3</th>\n",
       "      <td>bd22104dfa9ec80db4099523e03fae7a52735eb6</td>\n",
       "      <td>interest grand merci wonder lemtrada ocrevus s...</td>\n",
       "      <td>ocrevus</td>\n",
       "    </tr>\n",
       "    <tr>\n",
       "      <th>4</th>\n",
       "      <td>b227688381f9b25e5b65109dd00f7f895e838249</td>\n",
       "      <td>hello everybody late mri result brain cervical...</td>\n",
       "      <td>gilenya</td>\n",
       "    </tr>\n",
       "    <tr>\n",
       "      <th>5</th>\n",
       "      <td>a043780c757966243779bf3c0d11bf6eef721971</td>\n",
       "      <td>advice lemtrada choose cladribine think drug d...</td>\n",
       "      <td>cladribine</td>\n",
       "    </tr>\n",
       "    <tr>\n",
       "      <th>6</th>\n",
       "      <td>be5a13376933a7f9bbf8e801c31691092f63260a</td>\n",
       "      <td>reply post jesszidek hello jess sorry read cha...</td>\n",
       "      <td>humira</td>\n",
       "    </tr>\n",
       "    <tr>\n",
       "      <th>7</th>\n",
       "      <td>08c3c0c702fc97d290204b37798ac62005da5626</td>\n",
       "      <td>expect neurologist want start tysabri keep say...</td>\n",
       "      <td>gilenya</td>\n",
       "    </tr>\n",
       "    <tr>\n",
       "      <th>8</th>\n",
       "      <td>8fd3d7ad80791c9343e5cf8a83bd1adf6577d516</td>\n",
       "      <td>think fingolimod miserable failure progressive...</td>\n",
       "      <td>fingolimod</td>\n",
       "    </tr>\n",
       "    <tr>\n",
       "      <th>9</th>\n",
       "      <td>793c5af7cc8332df17eb602247d886fbd1c80f89</td>\n",
       "      <td>thank i’m learn lot grace   mention husband ca...</td>\n",
       "      <td>tagrisso</td>\n",
       "    </tr>\n",
       "    <tr>\n",
       "      <th>10</th>\n",
       "      <td>127a56fe52ebb4ac4bd7c44882b38c90b309b0d1</td>\n",
       "      <td>vision eye unrelated eye injection problem beg...</td>\n",
       "      <td>lucentis</td>\n",
       "    </tr>\n",
       "    <tr>\n",
       "      <th>11</th>\n",
       "      <td>c012af0fb7ffdbd0cf26564666f344f136bde78f</td>\n",
       "      <td>significant bleed right eye need laser possibl...</td>\n",
       "      <td>pan-retinal photocoagulation</td>\n",
       "    </tr>\n",
       "    <tr>\n",
       "      <th>12</th>\n",
       "      <td>9e7ba64f3370ad7b6214677051ad542c45a667bb</td>\n",
       "      <td>objective review evidence support european uni...</td>\n",
       "      <td>fingolimod</td>\n",
       "    </tr>\n",
       "    <tr>\n",
       "      <th>13</th>\n",
       "      <td>497b861718dcea8618daa71fff8ccdeff2e5b161</td>\n",
       "      <td>multiple sclerosis ms think inflammatory proce...</td>\n",
       "      <td>gilenya</td>\n",
       "    </tr>\n",
       "    <tr>\n",
       "      <th>14</th>\n",
       "      <td>4448be865036bcb6154ca03a3b101ea3a9ba4dac</td>\n",
       "      <td>mom diagnosis similar detect january 2018 ches...</td>\n",
       "      <td>tagrisso</td>\n",
       "    </tr>\n",
       "    <tr>\n",
       "      <th>15</th>\n",
       "      <td>aa8baf1777c68498006a91e2dde76cea8d481f23</td>\n",
       "      <td>humira adalimumab injectable protein antibody ...</td>\n",
       "      <td>humira</td>\n",
       "    </tr>\n",
       "    <tr>\n",
       "      <th>16</th>\n",
       "      <td>abbe2c5ec2d09c903eea188d56dd1f0ccfa2be5c</td>\n",
       "      <td>theory gi tell accurate standard practice endo...</td>\n",
       "      <td>remicade</td>\n",
       "    </tr>\n",
       "    <tr>\n",
       "      <th>17</th>\n",
       "      <td>fb054b0af1d68a71577430858e6dbe4162d269b3</td>\n",
       "      <td>goodness minnie wish use curse word forum desc...</td>\n",
       "      <td>stelara</td>\n",
       "    </tr>\n",
       "    <tr>\n",
       "      <th>18</th>\n",
       "      <td>81d3b59febf33f7099315d8a06402a84a4083113</td>\n",
       "      <td>sebastian agree entirely know alemtuzumab long...</td>\n",
       "      <td>ocrelizumab</td>\n",
       "    </tr>\n",
       "    <tr>\n",
       "      <th>19</th>\n",
       "      <td>ac44c2e8ed91882149e8341b294b5e5d14bfb6b2</td>\n",
       "      <td>good luck reg day ago go listen neuro speak ne...</td>\n",
       "      <td>ocrevus</td>\n",
       "    </tr>\n",
       "    <tr>\n",
       "      <th>20</th>\n",
       "      <td>174806d157718c27217a1dc6ee66f0388a58710b</td>\n",
       "      <td>bmc ophthalmol 2019 jan 8;19(1):8 intravitreal...</td>\n",
       "      <td>dexamethasone</td>\n",
       "    </tr>\n",
       "    <tr>\n",
       "      <th>21</th>\n",
       "      <td>e2d087ceb1887c03c15b17c326b6b7b8d19863a7</td>\n",
       "      <td>father egfr exon 20 insertion mutation find to...</td>\n",
       "      <td>pemetrexed</td>\n",
       "    </tr>\n",
       "    <tr>\n",
       "      <th>22</th>\n",
       "      <td>e878e1f60c8ce278ef78e92ff30264e734b08217</td>\n",
       "      <td>reply post flower girl hello year get pregnant...</td>\n",
       "      <td>cimzia</td>\n",
       "    </tr>\n",
       "    <tr>\n",
       "      <th>23</th>\n",
       "      <td>d45117196c74590e2e8b80705df478f9d9cdfbf9</td>\n",
       "      <td>hello snigdha father diagnose lung cancer july...</td>\n",
       "      <td>tarceva</td>\n",
       "    </tr>\n",
       "    <tr>\n",
       "      <th>24</th>\n",
       "      <td>68ea2ec060a4a59e6c28e0ba49ac9f1e7a2f930f</td>\n",
       "      <td>3 recommend stanford oncologist recommend regu...</td>\n",
       "      <td>tarceva</td>\n",
       "    </tr>\n",
       "    <tr>\n",
       "      <th>25</th>\n",
       "      <td>029b7632b8a7c09b908a57a14c98f74a944fc5ca</td>\n",
       "      <td>mention 8 recent development 25 issue interest...</td>\n",
       "      <td>gilenya</td>\n",
       "    </tr>\n",
       "    <tr>\n",
       "      <th>26</th>\n",
       "      <td>16c0970609b9bea8bbb533adf2c61c897424031b</td>\n",
       "      <td>course shortly post good update begin develop ...</td>\n",
       "      <td>gilenya</td>\n",
       "    </tr>\n",
       "    <tr>\n",
       "      <th>27</th>\n",
       "      <td>906db737204ead11986d1492af6f004e16a006e3</td>\n",
       "      <td>rituxan -this main ms drug rituxan technically...</td>\n",
       "      <td>ocrelizumab</td>\n",
       "    </tr>\n",
       "    <tr>\n",
       "      <th>28</th>\n",
       "      <td>e8f39b50683bb1b94689e8e462bdcd1aff331ee1</td>\n",
       "      <td>update january 01 2017   share | comment 0 tel...</td>\n",
       "      <td>ocrelizumab</td>\n",
       "    </tr>\n",
       "    <tr>\n",
       "      <th>29</th>\n",
       "      <td>c2df2a0e70805bb1a17305e2ac137aeae26d424a</td>\n",
       "      <td>hello rebif year rotate injection site remembe...</td>\n",
       "      <td>fingolimod</td>\n",
       "    </tr>\n",
       "    <tr>\n",
       "      <th>...</th>\n",
       "      <td>...</td>\n",
       "      <td>...</td>\n",
       "      <td>...</td>\n",
       "    </tr>\n",
       "    <tr>\n",
       "      <th>5249</th>\n",
       "      <td>2d160d4b1b1bb3225049f56700a27b1367422b3d</td>\n",
       "      <td>today post series burt stem cell trial northwe...</td>\n",
       "      <td>gilenya</td>\n",
       "    </tr>\n",
       "    <tr>\n",
       "      <th>5250</th>\n",
       "      <td>712b288e875e06d6350fe8f219895f913091caff</td>\n",
       "      <td>thank feel alot well definitely go miss rest t...</td>\n",
       "      <td>gilenya</td>\n",
       "    </tr>\n",
       "    <tr>\n",
       "      <th>5251</th>\n",
       "      <td>248661e9563e2ce910a0d9b71eccbf2a38feb9d4</td>\n",
       "      <td>dar nice news good news ocrevus infusion recen...</td>\n",
       "      <td>ocrevus</td>\n",
       "    </tr>\n",
       "    <tr>\n",
       "      <th>5252</th>\n",
       "      <td>c93b4d544cabf8878f40f21867f3a0721185fe50</td>\n",
       "      <td>dear jc bmj85 glad hear love one tarceva bmj85...</td>\n",
       "      <td>tagrisso</td>\n",
       "    </tr>\n",
       "    <tr>\n",
       "      <th>5253</th>\n",
       "      <td>c25aa797ac1c0856f182b2d03d1dfd9804e889af</td>\n",
       "      <td>talk dmt relapse remit ms good comparison char...</td>\n",
       "      <td>ocrelizumab</td>\n",
       "    </tr>\n",
       "    <tr>\n",
       "      <th>5254</th>\n",
       "      <td>11490bc467935a2b3fa05148df51e12f803af1e9</td>\n",
       "      <td>tecfidera available scotland diagnosis active ...</td>\n",
       "      <td>gilenya</td>\n",
       "    </tr>\n",
       "    <tr>\n",
       "      <th>5255</th>\n",
       "      <td>30839d9ea5fdd0369ead66abec3fe56f0f8cba95</td>\n",
       "      <td>urgh chilli con carne dinner follow massive sl...</td>\n",
       "      <td>entyvio</td>\n",
       "    </tr>\n",
       "    <tr>\n",
       "      <th>5256</th>\n",
       "      <td>84188d3e5086a840010ff73a1546435d81c65002</td>\n",
       "      <td>janet freeman daily cofounder ros1ders write p...</td>\n",
       "      <td>tarceva</td>\n",
       "    </tr>\n",
       "    <tr>\n",
       "      <th>5257</th>\n",
       "      <td>d31393a5c50ac3d10025dffe123f2129fc52fe29</td>\n",
       "      <td>1 end wheelchair lot people catastrophic react...</td>\n",
       "      <td>gilenya</td>\n",
       "    </tr>\n",
       "    <tr>\n",
       "      <th>5258</th>\n",
       "      <td>cd4c6be70dd17cf8e02ff2aa8dea9ba49aa828ae</td>\n",
       "      <td>thank response @edgarleroy find cladribine effect</td>\n",
       "      <td>cladribine</td>\n",
       "    </tr>\n",
       "    <tr>\n",
       "      <th>5259</th>\n",
       "      <td>43d57dbfb74e87167709e710931257c91fb8421f</td>\n",
       "      <td>introduction need effective safe treatment pre...</td>\n",
       "      <td>certolizumab pegol</td>\n",
       "    </tr>\n",
       "    <tr>\n",
       "      <th>5260</th>\n",
       "      <td>2d2de57bba0284d20c9e3d046b6a87cf9d299420</td>\n",
       "      <td>docetaxel week x3 week 1 week claim harsh effi...</td>\n",
       "      <td>tarceva</td>\n",
       "    </tr>\n",
       "    <tr>\n",
       "      <th>5261</th>\n",
       "      <td>3e0c5dadbea2ea2506a5982c5415da2e8257055c</td>\n",
       "      <td>swell lymph node good reason doctor look lymph...</td>\n",
       "      <td>remicade</td>\n",
       "    </tr>\n",
       "    <tr>\n",
       "      <th>5262</th>\n",
       "      <td>ad27b0ac33044d76fd9a2c7a7059e4ca7fde2980</td>\n",
       "      <td>couple people say remistart new able google re...</td>\n",
       "      <td>remicade</td>\n",
       "    </tr>\n",
       "    <tr>\n",
       "      <th>5263</th>\n",
       "      <td>2b485dde0240fce1757eeefa5a366f8ec7bebc97</td>\n",
       "      <td>osimertinib cancer medicine interfere growth s...</td>\n",
       "      <td>osimertinib</td>\n",
       "    </tr>\n",
       "    <tr>\n",
       "      <th>5264</th>\n",
       "      <td>45653e0f6cca51c3ec937df1dfa4858f14741482</td>\n",
       "      <td>vitrectomy permanently affect vision like poor...</td>\n",
       "      <td>vitrectomy</td>\n",
       "    </tr>\n",
       "    <tr>\n",
       "      <th>5265</th>\n",
       "      <td>98984e3b184ef5b95168bcfe20963c0376732403</td>\n",
       "      <td>oral fingolimod primary progressive multiple s...</td>\n",
       "      <td>fingolimod</td>\n",
       "    </tr>\n",
       "    <tr>\n",
       "      <th>5266</th>\n",
       "      <td>e18906ee95fcdd3887b7f71461345671d87a0e9b</td>\n",
       "      <td>hello wife treat lung cancer tarceva blood wor...</td>\n",
       "      <td>tarceva</td>\n",
       "    </tr>\n",
       "    <tr>\n",
       "      <th>5267</th>\n",
       "      <td>77c31185cd471b6070ac509fd6c13dabc60c8fbf</td>\n",
       "      <td>robert- pray good result ct want durvalumab wo...</td>\n",
       "      <td>durvalumab</td>\n",
       "    </tr>\n",
       "    <tr>\n",
       "      <th>5268</th>\n",
       "      <td>52f39c1295800194d6c637d3777a2c63f5e7f76a</td>\n",
       "      <td>hello cea number 2.3 finger cross read post us...</td>\n",
       "      <td>opdivo</td>\n",
       "    </tr>\n",
       "    <tr>\n",
       "      <th>5269</th>\n",
       "      <td>b9d0f0b49de3b5f036f0c2c5005dd8b1e70b156f</td>\n",
       "      <td>start gilenya screen ask heart issue long list...</td>\n",
       "      <td>gilenya</td>\n",
       "    </tr>\n",
       "    <tr>\n",
       "      <th>5270</th>\n",
       "      <td>4050e371bae37bef45fd5ad37e155dff963fec65</td>\n",
       "      <td>flare wrong time flare uc blood urgency freque...</td>\n",
       "      <td>humira</td>\n",
       "    </tr>\n",
       "    <tr>\n",
       "      <th>5271</th>\n",
       "      <td>f9a4055bb2023a80599d008e5f3e9a5a12a858ec</td>\n",
       "      <td>choroidal neovascularization characteristic we...</td>\n",
       "      <td>photodynamic therapy</td>\n",
       "    </tr>\n",
       "    <tr>\n",
       "      <th>5272</th>\n",
       "      <td>bf98773ed3a8cd9b2e27450f1d929cbef509b782</td>\n",
       "      <td>jan 11 2018 4:12 pm jim p write think depend l...</td>\n",
       "      <td>opdivo</td>\n",
       "    </tr>\n",
       "    <tr>\n",
       "      <th>5273</th>\n",
       "      <td>72ce440e0f19fefd4245670bc4969493dd03cbb0</td>\n",
       "      <td>19del carry comparative md simulation egfr kd ...</td>\n",
       "      <td>erlotinib</td>\n",
       "    </tr>\n",
       "    <tr>\n",
       "      <th>5274</th>\n",
       "      <td>5b5d129f3bab30fbb4740540a16856907657f005</td>\n",
       "      <td>hello bee thank update good news scan hard eff...</td>\n",
       "      <td>alimta</td>\n",
       "    </tr>\n",
       "    <tr>\n",
       "      <th>5275</th>\n",
       "      <td>1aa7dde5dc5249ebc3490c1fbac6ca6df48753a2</td>\n",
       "      <td>blood test check level humira trough dose take...</td>\n",
       "      <td>entyvio</td>\n",
       "    </tr>\n",
       "    <tr>\n",
       "      <th>5276</th>\n",
       "      <td>e9159c3f836f453f5f133008d40b7e65f9e70a42</td>\n",
       "      <td>well husband family</td>\n",
       "      <td>opdivo</td>\n",
       "    </tr>\n",
       "    <tr>\n",
       "      <th>5277</th>\n",
       "      <td>63d57717bd0cf650f91a5137bd1b427ba922edea</td>\n",
       "      <td>hello bazza luckily eye badly affect headache ...</td>\n",
       "      <td>lucentis</td>\n",
       "    </tr>\n",
       "    <tr>\n",
       "      <th>5278</th>\n",
       "      <td>c29143e9c1c299847e437412649b5738d861b9d0</td>\n",
       "      <td>ms appear mild numb year relapse take copaxone...</td>\n",
       "      <td>ocrevus</td>\n",
       "    </tr>\n",
       "  </tbody>\n",
       "</table>\n",
       "<p>5279 rows × 3 columns</p>\n",
       "</div>"
      ],
      "text/plain": [
       "                                   unique_hash              ...                                       drug\n",
       "0     2e180be4c9214c1f5ab51fd8cc32bc80c9f612e0              ...                                    gilenya\n",
       "1     9eba8f80e7e20f3a2f48685530748fbfa95943e4              ...                                    gilenya\n",
       "2     fe809672251f6bd0d986e00380f48d047c7e7b76              ...                                 fingolimod\n",
       "3     bd22104dfa9ec80db4099523e03fae7a52735eb6              ...                                    ocrevus\n",
       "4     b227688381f9b25e5b65109dd00f7f895e838249              ...                                    gilenya\n",
       "5     a043780c757966243779bf3c0d11bf6eef721971              ...                                 cladribine\n",
       "6     be5a13376933a7f9bbf8e801c31691092f63260a              ...                                     humira\n",
       "7     08c3c0c702fc97d290204b37798ac62005da5626              ...                                    gilenya\n",
       "8     8fd3d7ad80791c9343e5cf8a83bd1adf6577d516              ...                                 fingolimod\n",
       "9     793c5af7cc8332df17eb602247d886fbd1c80f89              ...                                   tagrisso\n",
       "10    127a56fe52ebb4ac4bd7c44882b38c90b309b0d1              ...                                   lucentis\n",
       "11    c012af0fb7ffdbd0cf26564666f344f136bde78f              ...               pan-retinal photocoagulation\n",
       "12    9e7ba64f3370ad7b6214677051ad542c45a667bb              ...                                 fingolimod\n",
       "13    497b861718dcea8618daa71fff8ccdeff2e5b161              ...                                    gilenya\n",
       "14    4448be865036bcb6154ca03a3b101ea3a9ba4dac              ...                                   tagrisso\n",
       "15    aa8baf1777c68498006a91e2dde76cea8d481f23              ...                                     humira\n",
       "16    abbe2c5ec2d09c903eea188d56dd1f0ccfa2be5c              ...                                   remicade\n",
       "17    fb054b0af1d68a71577430858e6dbe4162d269b3              ...                                    stelara\n",
       "18    81d3b59febf33f7099315d8a06402a84a4083113              ...                                ocrelizumab\n",
       "19    ac44c2e8ed91882149e8341b294b5e5d14bfb6b2              ...                                    ocrevus\n",
       "20    174806d157718c27217a1dc6ee66f0388a58710b              ...                              dexamethasone\n",
       "21    e2d087ceb1887c03c15b17c326b6b7b8d19863a7              ...                                 pemetrexed\n",
       "22    e878e1f60c8ce278ef78e92ff30264e734b08217              ...                                     cimzia\n",
       "23    d45117196c74590e2e8b80705df478f9d9cdfbf9              ...                                    tarceva\n",
       "24    68ea2ec060a4a59e6c28e0ba49ac9f1e7a2f930f              ...                                    tarceva\n",
       "25    029b7632b8a7c09b908a57a14c98f74a944fc5ca              ...                                    gilenya\n",
       "26    16c0970609b9bea8bbb533adf2c61c897424031b              ...                                    gilenya\n",
       "27    906db737204ead11986d1492af6f004e16a006e3              ...                                ocrelizumab\n",
       "28    e8f39b50683bb1b94689e8e462bdcd1aff331ee1              ...                                ocrelizumab\n",
       "29    c2df2a0e70805bb1a17305e2ac137aeae26d424a              ...                                 fingolimod\n",
       "...                                        ...              ...                                        ...\n",
       "5249  2d160d4b1b1bb3225049f56700a27b1367422b3d              ...                                    gilenya\n",
       "5250  712b288e875e06d6350fe8f219895f913091caff              ...                                    gilenya\n",
       "5251  248661e9563e2ce910a0d9b71eccbf2a38feb9d4              ...                                    ocrevus\n",
       "5252  c93b4d544cabf8878f40f21867f3a0721185fe50              ...                                   tagrisso\n",
       "5253  c25aa797ac1c0856f182b2d03d1dfd9804e889af              ...                                ocrelizumab\n",
       "5254  11490bc467935a2b3fa05148df51e12f803af1e9              ...                                    gilenya\n",
       "5255  30839d9ea5fdd0369ead66abec3fe56f0f8cba95              ...                                    entyvio\n",
       "5256  84188d3e5086a840010ff73a1546435d81c65002              ...                                    tarceva\n",
       "5257  d31393a5c50ac3d10025dffe123f2129fc52fe29              ...                                    gilenya\n",
       "5258  cd4c6be70dd17cf8e02ff2aa8dea9ba49aa828ae              ...                                 cladribine\n",
       "5259  43d57dbfb74e87167709e710931257c91fb8421f              ...                         certolizumab pegol\n",
       "5260  2d2de57bba0284d20c9e3d046b6a87cf9d299420              ...                                    tarceva\n",
       "5261  3e0c5dadbea2ea2506a5982c5415da2e8257055c              ...                                   remicade\n",
       "5262  ad27b0ac33044d76fd9a2c7a7059e4ca7fde2980              ...                                   remicade\n",
       "5263  2b485dde0240fce1757eeefa5a366f8ec7bebc97              ...                                osimertinib\n",
       "5264  45653e0f6cca51c3ec937df1dfa4858f14741482              ...                                 vitrectomy\n",
       "5265  98984e3b184ef5b95168bcfe20963c0376732403              ...                                 fingolimod\n",
       "5266  e18906ee95fcdd3887b7f71461345671d87a0e9b              ...                                    tarceva\n",
       "5267  77c31185cd471b6070ac509fd6c13dabc60c8fbf              ...                                 durvalumab\n",
       "5268  52f39c1295800194d6c637d3777a2c63f5e7f76a              ...                                     opdivo\n",
       "5269  b9d0f0b49de3b5f036f0c2c5005dd8b1e70b156f              ...                                    gilenya\n",
       "5270  4050e371bae37bef45fd5ad37e155dff963fec65              ...                                     humira\n",
       "5271  f9a4055bb2023a80599d008e5f3e9a5a12a858ec              ...                       photodynamic therapy\n",
       "5272  bf98773ed3a8cd9b2e27450f1d929cbef509b782              ...                                     opdivo\n",
       "5273  72ce440e0f19fefd4245670bc4969493dd03cbb0              ...                                  erlotinib\n",
       "5274  5b5d129f3bab30fbb4740540a16856907657f005              ...                                     alimta\n",
       "5275  1aa7dde5dc5249ebc3490c1fbac6ca6df48753a2              ...                                    entyvio\n",
       "5276  e9159c3f836f453f5f133008d40b7e65f9e70a42              ...                                     opdivo\n",
       "5277  63d57717bd0cf650f91a5137bd1b427ba922edea              ...                                   lucentis\n",
       "5278  c29143e9c1c299847e437412649b5738d861b9d0              ...                                    ocrevus\n",
       "\n",
       "[5279 rows x 3 columns]"
      ]
     },
     "execution_count": 12,
     "metadata": {},
     "output_type": "execute_result"
    }
   ],
   "source": [
    "train"
   ]
  },
  {
   "cell_type": "code",
   "execution_count": 13,
   "metadata": {},
   "outputs": [],
   "source": [
    "# # Bag of Words (word based)\n",
    "# ctv_word = CountVectorizer(analyzer='word',token_pattern=r'\\w{1,}',min_df = 200, max_features=5000,\n",
    "#             ngram_range=(1,2), stop_words = 'english')\n"
   ]
  },
  {
   "cell_type": "code",
   "execution_count": 14,
   "metadata": {},
   "outputs": [],
   "source": [
    "# print(\"Fitting Bag of Words Model on words...\\n\")\n",
    "# # Fitting CountVectorizer to both training and test sets\n",
    "# ctv_word.fit(list(train['text']) + list(test['text']))\n",
    "# train_ctv_word =  ctv_word.transform(train['text']) \n",
    "# test_ctv_word = ctv_word.transform(test['text'])"
   ]
  },
  {
   "cell_type": "code",
   "execution_count": 15,
   "metadata": {},
   "outputs": [],
   "source": [
    "# print(\"Fitting Bag of Words Model on characters...\\n\")\n",
    "\n",
    "# # Bag of words (charater based)\n",
    "# ctv_char = TfidfVectorizer(sublinear_tf=True, strip_accents='unicode',analyzer='char',\n",
    "#     stop_words='english', ngram_range=(2, 6), max_features=10000)\n",
    "\n",
    "# # Fitting CountVectorizer to both training and test sets\n",
    "# ctv_char.fit(list(train['text']) + list(test['text']))\n",
    "# train_ctv_char =  ctv_char.transform(train['text']) \n",
    "# test_ctv_char = ctv_char.transform(test['text'])"
   ]
  },
  {
   "cell_type": "code",
   "execution_count": 16,
   "metadata": {},
   "outputs": [
    {
     "name": "stdout",
     "output_type": "stream",
     "text": [
      "Fitting TF-IDF Model on words...\n",
      "\n"
     ]
    }
   ],
   "source": [
    "# TF - IDF (words)\n",
    "\n",
    "print(\"Fitting TF-IDF Model on words...\\n\")\n",
    "tfv_word = TfidfVectorizer(min_df=150,  max_features= 5000, \n",
    "            strip_accents='unicode', analyzer='word',token_pattern=r'\\w{1,}',\n",
    "            ngram_range=(1,3),\n",
    "            stop_words = 'english')\n",
    "\n",
    "# Fitting TF-IDF to both training and test sets (semi-supervised learning)\n",
    "tfv_word.fit(list(train['text']) + list(test['text']))\n",
    "train_tfv_word =  tfv_word.transform(train['text'])\n",
    "test_tfv_word = tfv_word.transform(test['text'])"
   ]
  },
  {
   "cell_type": "code",
   "execution_count": 17,
   "metadata": {},
   "outputs": [
    {
     "name": "stdout",
     "output_type": "stream",
     "text": [
      "Fitting TF - IDF Model on characters...\n",
      "\n"
     ]
    }
   ],
   "source": [
    "# TF-IDF(char)\n",
    "print(\"Fitting TF - IDF Model on characters...\\n\")\n",
    "tfv_char = TfidfVectorizer(sublinear_tf=True,strip_accents='unicode',analyzer='char',\n",
    "    stop_words='english',ngram_range=(2, 6),max_features=10000)\n",
    "\n",
    "tfv_char.fit(list(train['text']) + list(test['text']))\n",
    "train_tfv_char = tfv_char.transform(train['text'])\n",
    "test_tfv_char = tfv_char.transform(test['text'])"
   ]
  },
  {
   "cell_type": "code",
   "execution_count": 18,
   "metadata": {},
   "outputs": [
    {
     "name": "stdout",
     "output_type": "stream",
     "text": [
      "Combining TF-IDF for words and characters...\n",
      "\n"
     ]
    }
   ],
   "source": [
    "# print(\"Combining Bag of words for words and characters...\\n\")\n",
    "# # bag of words for training set (words + char)\n",
    "# train_bow = hstack([train_ctv_word, train_ctv_char])\n",
    "# test_bow = hstack([test_ctv_word, test_ctv_char])\n",
    "\n",
    "print(\"Combining TF-IDF for words and characters...\\n\")\n",
    "\n",
    "# TF-IDF for test set (words + char)\n",
    "train_tfidf = hstack([train_tfv_word, train_tfv_char])\n",
    "test_tfidf = hstack([test_tfv_word, test_tfv_char])"
   ]
  },
  {
   "cell_type": "code",
   "execution_count": 19,
   "metadata": {},
   "outputs": [],
   "source": [
    "# create dataframe for features\n",
    "\n",
    "# train_bow_final = pd.DataFrame(train_bow.todense())\n",
    "# test_bow_final = pd.DataFrame(test_bow.todense())\n",
    "\n",
    "train_tfidf_final = pd.DataFrame(train_tfidf.todense())\n",
    "test_tfidf_final = pd.DataFrame(test_tfidf.todense())"
   ]
  },
  {
   "cell_type": "code",
   "execution_count": 20,
   "metadata": {},
   "outputs": [],
   "source": [
    "# train_bow_final.columns = ['col'+ str(x) for x in train_bow_final.columns]\n",
    "# test_bow_final.columns = ['col'+ str(x) for x in test_bow_final.columns]\n",
    "\n",
    "train_tfidf_final.columns = ['col' + str(x) for x in train_tfidf_final.columns]\n",
    "test_tfidf_final.columns = ['col' + str(x) for x in test_tfidf_final.columns]"
   ]
  },
  {
   "cell_type": "code",
   "execution_count": 21,
   "metadata": {},
   "outputs": [],
   "source": [
    "# del train_tfv_char,train_tfv_word,test_tfidf,test_tfv_char,test_tfv_word\n",
    "# gc.collect()"
   ]
  },
  {
   "cell_type": "code",
   "execution_count": 22,
   "metadata": {},
   "outputs": [],
   "source": [
    "train_drug_df = pd.get_dummies(train['drug'])\n",
    "test_drug_df = pd.get_dummies(test['drug'])"
   ]
  },
  {
   "cell_type": "code",
   "execution_count": 23,
   "metadata": {},
   "outputs": [],
   "source": [
    "# merge count (tfidf) features into train\n",
    "train_feats1 = pd.concat([train_drug_df, train_tfidf_final], axis = 1)\n",
    "test_feats1 = pd.concat([test_drug_df, test_tfidf_final], axis=1)\n",
    "\n",
    "test_feats1.reset_index(drop=True, inplace=True)"
   ]
  },
  {
   "cell_type": "code",
   "execution_count": 24,
   "metadata": {},
   "outputs": [],
   "source": [
    "# # merge count (bag of word) features into train\n",
    "# train_feats2 = pd.concat([train_drug_df, train_bow_final], axis = 1)\n",
    "# test_feats2 = pd.concat([test_drug_df, test_bow_final], axis=1)\n",
    "\n",
    "# test_feats2.reset_index(drop=True, inplace=True)"
   ]
  },
  {
   "cell_type": "code",
   "execution_count": 25,
   "metadata": {},
   "outputs": [],
   "source": [
    "# Get missing columns in the training test\n",
    "missing_cols = set( train_feats1.columns ) - set( test_feats1.columns )\n",
    "# Add a missing column in test set with default value equal to 0\n",
    "for c in missing_cols:\n",
    "    test_feats1[c] = 0\n",
    "# Ensure the order of column in the test set is in the same order than in train set\n",
    "test_feats1 = test_feats1[train_feats1.columns]"
   ]
  },
  {
   "cell_type": "code",
   "execution_count": 26,
   "metadata": {},
   "outputs": [],
   "source": [
    "from sklearn.naive_bayes import GaussianNB"
   ]
  },
  {
   "cell_type": "code",
   "execution_count": 27,
   "metadata": {},
   "outputs": [],
   "source": [
    "# let's check cross validation score of the model\n",
    "# cv score acts a unbiased estimate of models accuracy on unseen data\n",
    "\n",
    "mod1 = GaussianNB()"
   ]
  },
  {
   "cell_type": "code",
   "execution_count": 28,
   "metadata": {},
   "outputs": [],
   "source": [
    "def f1_score_multiclass(y_true,y_pred):\n",
    "    return f1_score(y_true,y_pred,average=\"macro\")"
   ]
  },
  {
   "cell_type": "code",
   "execution_count": 29,
   "metadata": {},
   "outputs": [
    {
     "name": "stdout",
     "output_type": "stream",
     "text": [
      "[0.38284038 0.39727382 0.40092248 0.38472387 0.37565525]\n"
     ]
    }
   ],
   "source": [
    "## Naive Bayes 1\n",
    "print(cross_val_score(mod1, train_feats1, y, cv=5, scoring=make_scorer(f1_score_multiclass)))"
   ]
  },
  {
   "cell_type": "code",
   "execution_count": 30,
   "metadata": {},
   "outputs": [],
   "source": [
    "## Naive Bayes 2 - bow is giving lower CV score\n",
    "# print(cross_val_score(mod1, train_feats2, y, cv=5, scoring=make_scorer(f1_score_multiclass)))"
   ]
  },
  {
   "cell_type": "code",
   "execution_count": 31,
   "metadata": {},
   "outputs": [
    {
     "data": {
      "text/plain": [
       "GaussianNB(priors=None, var_smoothing=1e-09)"
      ]
     },
     "execution_count": 31,
     "metadata": {},
     "output_type": "execute_result"
    }
   ],
   "source": [
    "clf1 = GaussianNB()\n",
    "clf1.fit(train_feats1, y)"
   ]
  },
  {
   "cell_type": "code",
   "execution_count": 32,
   "metadata": {},
   "outputs": [
    {
     "data": {
      "text/plain": [
       "(2924, 11419)"
      ]
     },
     "execution_count": 32,
     "metadata": {},
     "output_type": "execute_result"
    }
   ],
   "source": [
    "test_feats1.shape"
   ]
  },
  {
   "cell_type": "code",
   "execution_count": 33,
   "metadata": {},
   "outputs": [],
   "source": [
    "preds1 = clf1.predict(test_feats1)"
   ]
  },
  {
   "cell_type": "code",
   "execution_count": 34,
   "metadata": {},
   "outputs": [],
   "source": [
    "sub1 = pd.DataFrame({'unique_hash':test.unique_hash, 'sentiment':preds1})"
   ]
  },
  {
   "cell_type": "code",
   "execution_count": 35,
   "metadata": {},
   "outputs": [
    {
     "data": {
      "text/plain": [
       "2    1177\n",
       "1    1142\n",
       "0     605\n",
       "Name: sentiment, dtype: int64"
      ]
     },
     "execution_count": 35,
     "metadata": {},
     "output_type": "execute_result"
    }
   ],
   "source": [
    "sub1['sentiment'].value_counts()"
   ]
  },
  {
   "cell_type": "code",
   "execution_count": 36,
   "metadata": {},
   "outputs": [],
   "source": [
    "## write submission files\n",
    "sub1.to_csv('submission1.csv', index=False)"
   ]
  }
 ],
 "metadata": {
  "kernelspec": {
   "display_name": "Python 3",
   "language": "python",
   "name": "python3"
  },
  "language_info": {
   "codemirror_mode": {
    "name": "ipython",
    "version": 3
   },
   "file_extension": ".py",
   "mimetype": "text/x-python",
   "name": "python",
   "nbconvert_exporter": "python",
   "pygments_lexer": "ipython3",
   "version": "3.6.6"
  }
 },
 "nbformat": 4,
 "nbformat_minor": 1
}
