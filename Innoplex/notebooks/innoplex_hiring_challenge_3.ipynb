{
 "cells": [
  {
   "cell_type": "code",
   "execution_count": 1,
   "metadata": {
    "_cell_guid": "b1076dfc-b9ad-4769-8c92-a6c4dae69d19",
    "_uuid": "8f2839f25d086af736a60e9eeb907d3b93b6e0e5"
   },
   "outputs": [
    {
     "name": "stderr",
     "output_type": "stream",
     "text": [
      "Using TensorFlow backend.\n"
     ]
    }
   ],
   "source": [
    "from gensim.models import KeyedVectors\n",
    "import numpy as np\n",
    "import pandas as pd\n",
    "\n",
    "from tensorflow import set_random_seed\n",
    "import operator\n",
    "\n",
    "import matplotlib.pyplot as plt\n",
    "\n",
    "import pickle\n",
    "import time\n",
    "import gc\n",
    "import random\n",
    "\n",
    "from sklearn.metrics import f1_score,accuracy_score\n",
    "from   sklearn.model_selection import train_test_split\n",
    "from sklearn.utils import class_weight\n",
    "\n",
    "from   keras import initializers, regularizers, constraints, callbacks, optimizers\n",
    "from keras.layers import Conv1D, Embedding, GlobalMaxPooling1D, concatenate, Input, Dense,add, concatenate\n",
    "from keras.layers import SpatialDropout1D,CuDNNLSTM, Bidirectional, GlobalMaxPooling1D, GlobalAveragePooling1D\n",
    "from   keras.models import Sequential, Model\n",
    "from   keras.preprocessing.sequence import pad_sequences\n",
    "from   keras.preprocessing.text import Tokenizer\n",
    "\n",
    "from keras.callbacks import EarlyStopping\n",
    "from keras.optimizers import Adam\n",
    "\n",
    "\n",
    "from tqdm._tqdm_notebook import tqdm_notebook as tqdm\n",
    "tqdm.pandas()\n",
    "\n",
    "from spacy.lang.en import English\n",
    "nlp = English()"
   ]
  },
  {
   "cell_type": "code",
   "execution_count": 2,
   "metadata": {},
   "outputs": [],
   "source": [
    "def seed_everything(seed=1234):\n",
    "    random.seed(seed)\n",
    "    np.random.seed(seed)\n",
    "    set_random_seed(seed)\n",
    "    \n",
    "seed_everything()"
   ]
  },
  {
   "cell_type": "code",
   "execution_count": 3,
   "metadata": {},
   "outputs": [],
   "source": [
    "train = pd.read_csv(\"../input/innoplex/train.csv\")\n",
    "test = pd.read_csv(\"../input/innoplex/test.csv\")"
   ]
  },
  {
   "cell_type": "code",
   "execution_count": 4,
   "metadata": {},
   "outputs": [
    {
     "data": {
      "text/plain": [
       "2    3825\n",
       "1     837\n",
       "0     617\n",
       "Name: sentiment, dtype: int64"
      ]
     },
     "execution_count": 4,
     "metadata": {},
     "output_type": "execute_result"
    }
   ],
   "source": [
    "train['sentiment'].value_counts()"
   ]
  },
  {
   "cell_type": "code",
   "execution_count": 5,
   "metadata": {},
   "outputs": [
    {
     "data": {
      "text/html": [
       "<div>\n",
       "<style scoped>\n",
       "    .dataframe tbody tr th:only-of-type {\n",
       "        vertical-align: middle;\n",
       "    }\n",
       "\n",
       "    .dataframe tbody tr th {\n",
       "        vertical-align: top;\n",
       "    }\n",
       "\n",
       "    .dataframe thead th {\n",
       "        text-align: right;\n",
       "    }\n",
       "</style>\n",
       "<table border=\"1\" class=\"dataframe\">\n",
       "  <thead>\n",
       "    <tr style=\"text-align: right;\">\n",
       "      <th></th>\n",
       "      <th>unique_hash</th>\n",
       "      <th>text</th>\n",
       "      <th>drug</th>\n",
       "      <th>sentiment</th>\n",
       "    </tr>\n",
       "  </thead>\n",
       "  <tbody>\n",
       "    <tr>\n",
       "      <th>0</th>\n",
       "      <td>2e180be4c9214c1f5ab51fd8cc32bc80c9f612e0</td>\n",
       "      <td>Autoimmune diseases tend to come in clusters. ...</td>\n",
       "      <td>gilenya</td>\n",
       "      <td>2</td>\n",
       "    </tr>\n",
       "    <tr>\n",
       "      <th>1</th>\n",
       "      <td>9eba8f80e7e20f3a2f48685530748fbfa95943e4</td>\n",
       "      <td>I can completely understand why you’d want to ...</td>\n",
       "      <td>gilenya</td>\n",
       "      <td>2</td>\n",
       "    </tr>\n",
       "    <tr>\n",
       "      <th>2</th>\n",
       "      <td>fe809672251f6bd0d986e00380f48d047c7e7b76</td>\n",
       "      <td>Interesting that it only targets S1P-1/5 recep...</td>\n",
       "      <td>fingolimod</td>\n",
       "      <td>2</td>\n",
       "    </tr>\n",
       "    <tr>\n",
       "      <th>3</th>\n",
       "      <td>bd22104dfa9ec80db4099523e03fae7a52735eb6</td>\n",
       "      <td>Very interesting, grand merci. Now I wonder wh...</td>\n",
       "      <td>ocrevus</td>\n",
       "      <td>2</td>\n",
       "    </tr>\n",
       "    <tr>\n",
       "      <th>4</th>\n",
       "      <td>b227688381f9b25e5b65109dd00f7f895e838249</td>\n",
       "      <td>Hi everybody, My latest MRI results for Brain ...</td>\n",
       "      <td>gilenya</td>\n",
       "      <td>1</td>\n",
       "    </tr>\n",
       "  </tbody>\n",
       "</table>\n",
       "</div>"
      ],
      "text/plain": [
       "                                unique_hash    ...    sentiment\n",
       "0  2e180be4c9214c1f5ab51fd8cc32bc80c9f612e0    ...            2\n",
       "1  9eba8f80e7e20f3a2f48685530748fbfa95943e4    ...            2\n",
       "2  fe809672251f6bd0d986e00380f48d047c7e7b76    ...            2\n",
       "3  bd22104dfa9ec80db4099523e03fae7a52735eb6    ...            2\n",
       "4  b227688381f9b25e5b65109dd00f7f895e838249    ...            1\n",
       "\n",
       "[5 rows x 4 columns]"
      ]
     },
     "execution_count": 5,
     "metadata": {},
     "output_type": "execute_result"
    }
   ],
   "source": [
    "train.head()"
   ]
  },
  {
   "cell_type": "code",
   "execution_count": 6,
   "metadata": {},
   "outputs": [],
   "source": [
    "class_weight = class_weight.compute_class_weight('balanced' ,np.unique(train['sentiment']) ,train['sentiment'])"
   ]
  },
  {
   "cell_type": "code",
   "execution_count": 7,
   "metadata": {},
   "outputs": [
    {
     "name": "stdout",
     "output_type": "stream",
     "text": [
      "Shape of label tensor: (5279, 3)\n"
     ]
    }
   ],
   "source": [
    "labels = pd.get_dummies(train['sentiment']).values\n",
    "print('Shape of label tensor:', labels.shape)"
   ]
  },
  {
   "cell_type": "code",
   "execution_count": 8,
   "metadata": {},
   "outputs": [],
   "source": [
    "train = train.drop(['sentiment'],axis=1)"
   ]
  },
  {
   "cell_type": "code",
   "execution_count": 9,
   "metadata": {},
   "outputs": [],
   "source": [
    "9# GLOVE_FILE\n",
    "GLOVE_EMBEDDING_PATH = '../input/pickled-glove840b300d-for-10sec-loading/glove.840B.300d.pkl'\n",
    "\n",
    "# WORD-level\n",
    "MAX_NUM_WORDS     = 15000\n",
    "EMBEDDING_DIM     = 300\n",
    "MAX_SEQ_LENGTH    = 120\n",
    "USE_GLOVE         = True\n",
    "\n",
    "\n",
    "# GENERAL\n",
    "DROPOUT_RATE      = 0.4\n",
    "LSTM_UNITS = 128\n",
    "DENSE_HIDDEN_UNITS = 2 * LSTM_UNITS\n",
    "NB_CLASSES        = 3\n",
    "\n",
    "# LEARNING\n",
    "BATCH_SIZE        = 512\n",
    "NB_EPOCHS         = 10\n",
    "RUNS              = 2\n",
    "VAL_SIZE          = 0.2"
   ]
  },
  {
   "cell_type": "code",
   "execution_count": 10,
   "metadata": {},
   "outputs": [],
   "source": [
    "# function to clean data\n",
    "\n",
    "def cleanData(doc,stemming = False):\n",
    "    doc = doc.lower()\n",
    "    doc = nlp(doc)\n",
    "    \n",
    "    tokens = [tokens.lower_ for tokens in doc]\n",
    "    tokens = [tokens for tokens in doc if (tokens.is_stop == False)]\n",
    "    final_tokens = [tokens for tokens in tokens if (tokens.is_punct == False)]\n",
    "    final_token = [token.lemma_ for token in tokens]\n",
    "    \n",
    "    return \" \".join(final_token)"
   ]
  },
  {
   "cell_type": "code",
   "execution_count": 11,
   "metadata": {},
   "outputs": [],
   "source": [
    "# clean description\n",
    "train['text'] = train['text'].map(lambda x: cleanData(x))\n",
    "# clean description\n",
    "test['text'] = test['text'].map(lambda x: cleanData(x))"
   ]
  },
  {
   "cell_type": "code",
   "execution_count": 12,
   "metadata": {},
   "outputs": [
    {
     "data": {
      "image/png": "[encoded data removed]",
      "text/plain": [
       "<Figure size 1440x360 with 1 Axes>"
      ]
     },
     "metadata": {
      "needs_background": "light"
     },
     "output_type": "display_data"
    },
    {
     "name": "stdout",
     "output_type": "stream",
     "text": [
      "Text informations:\n",
      "max length: 100269 / min length: 7 / mean length: 1426 / limit length: 120\n",
      "vacobulary size: 41075 / limit: 15000\n"
     ]
    }
   ],
   "source": [
    "tokenizer = Tokenizer(num_words=MAX_NUM_WORDS)\n",
    "tokenizer.fit_on_texts(list(train['text'])+ list(test['text']))\n",
    "\n",
    "sequences_train = tokenizer.texts_to_sequences(train['text'])\n",
    "sequences_test = tokenizer.texts_to_sequences(test['text'])\n",
    "\n",
    "drug_feature_train = pd.get_dummies(train['drug']).values\n",
    "drug_feature_test = pd.get_dummies(test['drug']).values\n",
    "\n",
    "word_index = tokenizer.word_index\n",
    "\n",
    "# get the length of the string of column in a dataframe\n",
    " \n",
    "result = [len(x) for x in train['text'].values.tolist()]\n",
    "\n",
    "# Plot histogram\n",
    "plt.figure(figsize=(20,5))\n",
    "plt.title('Document length')\n",
    "plt.hist(result, 200, density=False, range=(0,np.max(result)))\n",
    "plt.show()\n",
    "\n",
    "\n",
    "print('Text informations:')\n",
    "print('max length: %i / min length: %i / mean length: %i / limit length: %i' % (np.max(result),\n",
    "                                                                                np.min(result),\n",
    "                                                                                np.mean(result),\n",
    "                                                                                MAX_SEQ_LENGTH))\n",
    "print('vacobulary size: %i / limit: %i' % (len(word_index), MAX_NUM_WORDS))\n",
    "\n",
    "# Padding all sequences to same length of `MAX_SEQ_LENGTH`\n",
    "word_data = pad_sequences(sequences_train, maxlen=MAX_SEQ_LENGTH, padding='post')\n",
    "\n",
    "# Padding all sequences to same length of `MAX_SEQ_LENGTH`\n",
    "word_data_test = pad_sequences(sequences_test, maxlen=MAX_SEQ_LENGTH, padding='post')"
   ]
  },
  {
   "cell_type": "code",
   "execution_count": 13,
   "metadata": {},
   "outputs": [],
   "source": [
    "def get_coefs(word, *arr):\n",
    "    return word, np.asarray(arr, dtype='float32')\n",
    "\n",
    "\n",
    "def load_embeddings(path):\n",
    "    with open(path,'rb') as f:\n",
    "        emb_arr = pickle.load(f)\n",
    "    return emb_arr\n",
    "\n",
    "def build_matrix(word_index, path):\n",
    "    \n",
    "    embedding_index = load_embeddings(path)\n",
    "    embedding_matrix = np.zeros((MAX_NUM_WORDS, EMBEDDING_DIM))\n",
    "\n",
    "    for word, i in tokenizer.word_index.items():\n",
    "        if i >= MAX_NUM_WORDS:\n",
    "            continue\n",
    "        \n",
    "        try:\n",
    "            embedding_vector = embedding_index[word]\n",
    "            if embedding_vector is not None:\n",
    "                embedding_matrix[i] = embedding_vector\n",
    "        except:\n",
    "            pass\n",
    "\n",
    "    return embedding_matrix"
   ]
  },
  {
   "cell_type": "code",
   "execution_count": 14,
   "metadata": {},
   "outputs": [],
   "source": [
    "def check_coverage(vocab,embeddings_index):\n",
    "    a = {}\n",
    "    oov = {}\n",
    "    k = 0\n",
    "    i = 0\n",
    "    for word in tqdm(vocab):\n",
    "        try:\n",
    "            a[word] = embeddings_index[word]\n",
    "            k += vocab[word]\n",
    "        except:\n",
    "\n",
    "            oov[word] = vocab[word]\n",
    "            i += vocab[word]\n",
    "            pass\n",
    "\n",
    "    print('Found embeddings for {:.2%} of vocab'.format(len(a) / len(vocab)))\n",
    "    print('Found embeddings for  {:.2%} of all text'.format(k / (k + i)))\n",
    "    sorted_x = sorted(oov.items(), key=operator.itemgetter(1))[::-1]\n",
    "\n",
    "    return sorted_x\n",
    "\n",
    "def build_vocab(sentences, verbose =  True):\n",
    "    \"\"\"\n",
    "    :param sentences: list of list of words\n",
    "    :return: dictionary of words and their count\n",
    "    \"\"\"\n",
    "    vocab = {}\n",
    "    for sentence in tqdm(sentences, disable = (not verbose)):\n",
    "        for word in sentence:\n",
    "            try:\n",
    "                vocab[word] += 1\n",
    "            except KeyError:\n",
    "                vocab[word] = 1\n",
    "    return vocab"
   ]
  },
  {
   "cell_type": "code",
   "execution_count": 15,
   "metadata": {},
   "outputs": [],
   "source": [
    "# tic = time.time()\n",
    "# glove_embeddings = load_embeddings(GLOVE_EMBEDDING_PATH)\n",
    "# print(f'loaded {len(glove_embeddings)} word vectors in {time.time()-tic}s')"
   ]
  },
  {
   "cell_type": "code",
   "execution_count": 16,
   "metadata": {},
   "outputs": [],
   "source": [
    "# vocab = build_vocab(list(train['text'].apply(lambda x:x.split())))\n",
    "# oov = check_coverage(vocab,glove_embeddings)\n",
    "# oov[:10]"
   ]
  },
  {
   "cell_type": "code",
   "execution_count": 17,
   "metadata": {},
   "outputs": [],
   "source": [
    "def build_model(embedding_matrix, num_aux_targets):\n",
    "    words = Input(shape=(None,))\n",
    "    x = Embedding(*embedding_matrix.shape, weights=[embedding_matrix], trainable=True)(words)\n",
    "    x = SpatialDropout1D(DROPOUT_RATE)(x)\n",
    "    x = Bidirectional(CuDNNLSTM(LSTM_UNITS, return_sequences=True))(x)\n",
    "    hidden = GlobalMaxPooling1D()(x)\n",
    "    hidden = Dense(DENSE_HIDDEN_UNITS,activation='relu')(hidden)\n",
    "    result = Dense(NB_CLASSES, activation='softmax')(hidden)\n",
    "    \n",
    "    model = Model(inputs = words,outputs = result)\n",
    "    model.compile(loss='categorical_crossentropy',\n",
    "        optimizer=Adam(1e-3, clipnorm=1.),\n",
    "        metrics=['accuracy'])\n",
    "\n",
    "    return model"
   ]
  },
  {
   "cell_type": "code",
   "execution_count": 18,
   "metadata": {},
   "outputs": [],
   "source": [
    "embedding_matrix = build_matrix(word_index,GLOVE_EMBEDDING_PATH)"
   ]
  },
  {
   "cell_type": "code",
   "execution_count": 19,
   "metadata": {},
   "outputs": [
    {
     "name": "stdout",
     "output_type": "stream",
     "text": [
      "(8487, 120) (8487, 3)\n"
     ]
    }
   ],
   "source": [
    "#Let us try some sampling technique to remove class imbalance\n",
    "from imblearn.over_sampling import SMOTE\n",
    "\n",
    "smote = SMOTE('minority')\n",
    "\n",
    "X_train, X_val, y_train, y_val = train_test_split(word_data, labels, stratify=labels,test_size=VAL_SIZE)\n",
    "X_sm, y_sm = smote.fit_sample(word_data, labels)\n",
    "print(X_sm.shape, y_sm.shape)"
   ]
  },
  {
   "cell_type": "code",
   "execution_count": 20,
   "metadata": {},
   "outputs": [
    {
     "data": {
      "text/plain": [
       "array([[ 886,    5, 1236, ...,    0,    0,    0],\n",
       "       [ 742,  303,  114, ...,    0,    0,    0],\n",
       "       [ 505,  150, 3013, ...,    0,    0,    0],\n",
       "       ...,\n",
       "       [  36,  775,  322, ...,    0,    0,    0],\n",
       "       [ 180, 2972,   90, ...,    0,    0,    0],\n",
       "       [   7,  465,  723, ...,    0,    0,    0]], dtype=int32)"
      ]
     },
     "execution_count": 20,
     "metadata": {},
     "output_type": "execute_result"
    }
   ],
   "source": [
    "word_data"
   ]
  },
  {
   "cell_type": "code",
   "execution_count": 21,
   "metadata": {},
   "outputs": [
    {
     "name": "stdout",
     "output_type": "stream",
     "text": [
      "Running iteration 1/2\n",
      "Train on 4223 samples, validate on 1056 samples\n",
      "Epoch 1/10\n",
      "4223/4223 [==============================] - 5s 1ms/step - loss: 0.8174 - acc: 0.7113 - val_loss: 0.7670 - val_acc: 0.7244\n",
      "Epoch 2/10\n",
      "4223/4223 [==============================] - 1s 141us/step - loss: 0.7535 - acc: 0.7246 - val_loss: 0.7740 - val_acc: 0.7263\n",
      "Epoch 3/10\n",
      "4223/4223 [==============================] - 1s 141us/step - loss: 0.7407 - acc: 0.7248 - val_loss: 0.7510 - val_acc: 0.7311\n",
      "Epoch 4/10\n",
      "4223/4223 [==============================] - 1s 139us/step - loss: 0.7191 - acc: 0.7251 - val_loss: 0.7174 - val_acc: 0.7292\n",
      "Epoch 5/10\n",
      "4223/4223 [==============================] - 1s 139us/step - loss: 0.6989 - acc: 0.7284 - val_loss: 0.7181 - val_acc: 0.7131\n",
      "Epoch 6/10\n",
      "4223/4223 [==============================] - 1s 140us/step - loss: 0.6869 - acc: 0.7293 - val_loss: 0.7275 - val_acc: 0.6894\n",
      "Running iteration 2/2\n",
      "Train on 4223 samples, validate on 1056 samples\n",
      "Epoch 1/10\n",
      "4223/4223 [==============================] - 2s 409us/step - loss: 0.8084 - acc: 0.7246 - val_loss: 0.7836 - val_acc: 0.7244\n",
      "Epoch 2/10\n",
      "4223/4223 [==============================] - 1s 140us/step - loss: 0.7592 - acc: 0.7246 - val_loss: 0.7521 - val_acc: 0.7244\n",
      "Epoch 3/10\n",
      "4223/4223 [==============================] - 1s 140us/step - loss: 0.7362 - acc: 0.7246 - val_loss: 0.7316 - val_acc: 0.7254\n",
      "Epoch 4/10\n",
      "4223/4223 [==============================] - 1s 139us/step - loss: 0.7162 - acc: 0.7284 - val_loss: 0.7128 - val_acc: 0.7301\n",
      "Epoch 5/10\n",
      "4223/4223 [==============================] - 1s 138us/step - loss: 0.6997 - acc: 0.7274 - val_loss: 0.7068 - val_acc: 0.7301\n",
      "Epoch 6/10\n",
      "4223/4223 [==============================] - 1s 141us/step - loss: 0.6752 - acc: 0.7341 - val_loss: 0.7205 - val_acc: 0.6932\n",
      "Epoch 7/10\n",
      "4223/4223 [==============================] - 1s 141us/step - loss: 0.6634 - acc: 0.7405 - val_loss: 0.6948 - val_acc: 0.7225\n",
      "Epoch 8/10\n",
      "4223/4223 [==============================] - 1s 141us/step - loss: 0.6382 - acc: 0.7469 - val_loss: 0.6888 - val_acc: 0.7244\n",
      "Epoch 9/10\n",
      "4223/4223 [==============================] - 1s 139us/step - loss: 0.6147 - acc: 0.7502 - val_loss: 0.6886 - val_acc: 0.7254\n",
      "Epoch 10/10\n",
      "4223/4223 [==============================] - 1s 139us/step - loss: 0.5859 - acc: 0.7611 - val_loss: 0.7519 - val_acc: 0.6657\n"
     ]
    }
   ],
   "source": [
    "histories = []\n",
    "\n",
    "for i in range(RUNS):\n",
    "    print('Running iteration %i/%i' % (i+1, RUNS))\n",
    "    random_state = np.random.randint(1000)\n",
    "    \n",
    "    model = build_model(embedding_matrix, NB_CLASSES)\n",
    "                  \n",
    "    history = model.fit(\n",
    "        X_train, y_train,\n",
    "        epochs=NB_EPOCHS,\n",
    "        batch_size=BATCH_SIZE,class_weight=class_weight,\n",
    "        validation_data=(X_val, y_val),callbacks=[EarlyStopping(monitor='val_loss',patience=2, min_delta=0.0001)])\n",
    "    \n",
    "    histories.append(history.history)"
   ]
  },
  {
   "cell_type": "code",
   "execution_count": 22,
   "metadata": {},
   "outputs": [
    {
     "name": "stdout",
     "output_type": "stream",
     "text": [
      "Training: \t0.6669 loss / 0.7376 acc\n",
      "Validation: \t0.7030 loss / 0.7273 acc\n"
     ]
    }
   ],
   "source": [
    "def get_avg(histories, his_key):\n",
    "    tmp = []\n",
    "    for history in histories:\n",
    "        tmp.append(history[his_key][np.argmin(history['val_loss'])])\n",
    "    return np.mean(tmp)\n",
    "    \n",
    "print('Training: \\t%0.4f loss / %0.4f acc'   % (get_avg(histories, 'loss'),\n",
    "                                                get_avg(histories, 'acc')))\n",
    "print('Validation: \\t%0.4f loss / %0.4f acc' % (get_avg(histories, 'val_loss'),\n",
    "                                                get_avg(histories, 'val_acc')))"
   ]
  },
  {
   "cell_type": "code",
   "execution_count": 23,
   "metadata": {},
   "outputs": [],
   "source": [
    "def plot_acc_loss(title, histories, key_acc, key_loss):\n",
    "    fig, (ax1, ax2) = plt.subplots(1, 2)\n",
    "    # Accuracy\n",
    "    ax1.set_title('Model accuracy (%s)' % title)\n",
    "    names = []\n",
    "    for i, model in enumerate(histories):\n",
    "        ax1.plot(model[key_acc])\n",
    "        ax1.set_xlabel('epoch')\n",
    "        names.append('Model %i' % (i+1))\n",
    "        ax1.set_ylabel('accuracy')\n",
    "    ax1.legend(names, loc='lower right')\n",
    "    # Loss\n",
    "    ax2.set_title('Model loss (%s)' % title)\n",
    "    for model in histories:\n",
    "        ax2.plot(model[key_loss])\n",
    "        ax2.set_xlabel('epoch')\n",
    "        ax2.set_ylabel('loss')\n",
    "    ax2.legend(names, loc='upper right')\n",
    "    fig.set_size_inches(20, 5)\n",
    "    plt.show()"
   ]
  },
  {
   "cell_type": "code",
   "execution_count": 24,
   "metadata": {},
   "outputs": [
    {
     "data": {
      "image/png": "[encoded data removed]",
      "text/plain": [
       "<Figure size 1440x360 with 2 Axes>"
      ]
     },
     "metadata": {
      "needs_background": "light"
     },
     "output_type": "display_data"
    },
    {
     "data": {
      "image/png": "[encoded data removed]",
      "text/plain": [
       "<Figure size 1440x360 with 2 Axes>"
      ]
     },
     "metadata": {
      "needs_background": "light"
     },
     "output_type": "display_data"
    }
   ],
   "source": [
    "plot_acc_loss('training', histories, 'acc', 'loss')\n",
    "plot_acc_loss('validation', histories, 'val_acc', 'val_loss')"
   ]
  },
  {
   "cell_type": "code",
   "execution_count": 25,
   "metadata": {},
   "outputs": [],
   "source": [
    "preds = model.predict(word_data_test)"
   ]
  },
  {
   "cell_type": "code",
   "execution_count": 26,
   "metadata": {},
   "outputs": [],
   "source": [
    "preds1 = np.argmax(preds, axis=1)"
   ]
  },
  {
   "cell_type": "code",
   "execution_count": 27,
   "metadata": {},
   "outputs": [],
   "source": [
    "sub1 = pd.DataFrame({'unique_hash':test.unique_hash, 'sentiment':preds1})"
   ]
  },
  {
   "cell_type": "code",
   "execution_count": 28,
   "metadata": {},
   "outputs": [
    {
     "data": {
      "text/plain": [
       "2    2203\n",
       "0     362\n",
       "1     359\n",
       "Name: sentiment, dtype: int64"
      ]
     },
     "execution_count": 28,
     "metadata": {},
     "output_type": "execute_result"
    }
   ],
   "source": [
    "sub1['sentiment'].value_counts()"
   ]
  },
  {
   "cell_type": "code",
   "execution_count": 29,
   "metadata": {},
   "outputs": [],
   "source": [
    "## write submission files\n",
    "sub1.to_csv('submission3.csv', index=False)"
   ]
  },
  {
   "cell_type": "code",
   "execution_count": null,
   "metadata": {},
   "outputs": [],
   "source": []
  }
 ],
 "metadata": {
  "kernelspec": {
   "display_name": "Python 3",
   "language": "python",
   "name": "python3"
  },
  "language_info": {
   "codemirror_mode": {
    "name": "ipython",
    "version": 3
   },
   "file_extension": ".py",
   "mimetype": "text/x-python",
   "name": "python",
   "nbconvert_exporter": "python",
   "pygments_lexer": "ipython3",
   "version": "3.6.6"
  }
 },
 "nbformat": 4,
 "nbformat_minor": 1
}
